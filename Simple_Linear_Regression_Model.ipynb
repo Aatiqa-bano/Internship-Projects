{
  "nbformat": 4,
  "nbformat_minor": 0,
  "metadata": {
    "colab": {
      "provenance": [],
      "authorship_tag": "ABX9TyPLqJixCgfQZEM7A3KGqyQ9",
      "include_colab_link": true
    },
    "kernelspec": {
      "name": "python3",
      "display_name": "Python 3"
    },
    "language_info": {
      "name": "python"
    }
  },
  "cells": [
    {
      "cell_type": "markdown",
      "metadata": {
        "id": "view-in-github",
        "colab_type": "text"
      },
      "source": [
        "<a href=\"https://colab.research.google.com/github/Aatiqa-bano/Internship-Projects/blob/main/Simple_Linear_Regression_Model.ipynb\" target=\"_parent\"><img src=\"https://colab.research.google.com/assets/colab-badge.svg\" alt=\"Open In Colab\"/></a>"
      ]
    },
    {
      "cell_type": "markdown",
      "source": [
        "Libraries"
      ],
      "metadata": {
        "id": "YbrKGI7KJMKD"
      }
    },
    {
      "cell_type": "code",
      "execution_count": 1,
      "metadata": {
        "id": "5hZF8QhvnQEd"
      },
      "outputs": [],
      "source": [
        "import pandas as pd\n",
        "import matplotlib.pyplot as plt\n",
        "from sklearn.model_selection import train_test_split\n",
        "from sklearn.linear_model import LinearRegression\n",
        "from sklearn.metrics import mean_squared_error, r2_score"
      ]
    },
    {
      "cell_type": "markdown",
      "source": [
        "Data"
      ],
      "metadata": {
        "id": "lWpmAl83JQIe"
      }
    },
    {
      "cell_type": "code",
      "source": [
        "data = pd.read_excel('removed outliers.xlsx')"
      ],
      "metadata": {
        "id": "RVP1xY7RI2WR"
      },
      "execution_count": 2,
      "outputs": []
    },
    {
      "cell_type": "markdown",
      "source": [
        "About dataset"
      ],
      "metadata": {
        "id": "stJY3wosJglo"
      }
    },
    {
      "cell_type": "code",
      "source": [
        "print(data.head())"
      ],
      "metadata": {
        "colab": {
          "base_uri": "https://localhost:8080/"
        },
        "id": "UE2qkGEjI-WG",
        "outputId": "83563b7f-8064-4a9a-c9c0-e0f60be96f0c"
      },
      "execution_count": 3,
      "outputs": [
        {
          "output_type": "stream",
          "name": "stdout",
          "text": [
            "   total_bill   tip     sex smoker  day    time  size  tip-removed  \\\n",
            "0       16.99  1.01  Female     No  Sun  Dinner     2        False   \n",
            "1       10.34  1.66    Male     No  Sun  Dinner     3        False   \n",
            "2       21.01  3.50    Male     No  Sun  Dinner     3        False   \n",
            "3       23.68  3.31    Male     No  Sun  Dinner     2        False   \n",
            "4       24.59  3.61  Female     No  Sun  Dinner     4        False   \n",
            "\n",
            "   Unnamed: 8  Unnamed: 9 Unnamed: 10  Unnamed: 11  \n",
            "0         NaN         NaN         NaN          NaN  \n",
            "1         NaN         NaN         NaN          NaN  \n",
            "2         NaN         NaN          Q1          2.0  \n",
            "3         NaN         NaN          Q3          3.5  \n",
            "4         NaN         NaN         IQR          1.5  \n"
          ]
        }
      ]
    },
    {
      "cell_type": "markdown",
      "source": [
        "About dataset"
      ],
      "metadata": {
        "id": "V-Klc4k8JUwF"
      }
    },
    {
      "cell_type": "code",
      "source": [
        "print(data.describe())"
      ],
      "metadata": {
        "colab": {
          "base_uri": "https://localhost:8080/"
        },
        "id": "4zg9U4t1JE7c",
        "outputId": "d761e117-4ada-4079-c2d9-13e0fdd04986"
      },
      "execution_count": 4,
      "outputs": [
        {
          "output_type": "stream",
          "name": "stdout",
          "text": [
            "       total_bill         tip        size  Unnamed: 8  Unnamed: 9  Unnamed: 11\n",
            "count  234.000000  234.000000  234.000000         0.0         0.0     5.000000\n",
            "mean    19.098974    2.823932    2.521368         NaN         NaN     2.500000\n",
            "std      8.185805    1.084876    0.918090         NaN         NaN     2.256934\n",
            "min      3.070000    1.000000    1.000000         NaN         NaN    -0.250000\n",
            "25%     13.187500    2.000000    2.000000         NaN         NaN     1.500000\n",
            "50%     17.385000    2.730000    2.000000         NaN         NaN     2.000000\n",
            "75%     23.030000    3.500000    3.000000         NaN         NaN     3.500000\n",
            "max     48.170000    5.650000    6.000000         NaN         NaN     5.750000\n"
          ]
        }
      ]
    },
    {
      "cell_type": "code",
      "source": [
        "print(data.info())"
      ],
      "metadata": {
        "colab": {
          "base_uri": "https://localhost:8080/"
        },
        "id": "op4hB3vFJHj-",
        "outputId": "8b16ba17-4a70-4487-95eb-e76d35e225d4"
      },
      "execution_count": 5,
      "outputs": [
        {
          "output_type": "stream",
          "name": "stdout",
          "text": [
            "<class 'pandas.core.frame.DataFrame'>\n",
            "RangeIndex: 234 entries, 0 to 233\n",
            "Data columns (total 12 columns):\n",
            " #   Column       Non-Null Count  Dtype  \n",
            "---  ------       --------------  -----  \n",
            " 0   total_bill   234 non-null    float64\n",
            " 1   tip          234 non-null    float64\n",
            " 2   sex          234 non-null    object \n",
            " 3   smoker       234 non-null    object \n",
            " 4   day          234 non-null    object \n",
            " 5   time         234 non-null    object \n",
            " 6   size         234 non-null    int64  \n",
            " 7   tip-removed  234 non-null    bool   \n",
            " 8   Unnamed: 8   0 non-null      float64\n",
            " 9   Unnamed: 9   0 non-null      float64\n",
            " 10  Unnamed: 10  5 non-null      object \n",
            " 11  Unnamed: 11  5 non-null      float64\n",
            "dtypes: bool(1), float64(5), int64(1), object(5)\n",
            "memory usage: 20.5+ KB\n",
            "None\n"
          ]
        }
      ]
    },
    {
      "cell_type": "markdown",
      "source": [
        "dependent and independent variables"
      ],
      "metadata": {
        "id": "uS94nx5SJ4qt"
      }
    },
    {
      "cell_type": "code",
      "source": [
        "X = data[['total_bill']]\n",
        "y = data['tip']"
      ],
      "metadata": {
        "id": "z8bELkDVJzzk"
      },
      "execution_count": 6,
      "outputs": []
    },
    {
      "cell_type": "markdown",
      "source": [
        "Split the dataset into training and testing sets"
      ],
      "metadata": {
        "id": "CBGcVWe6KGr3"
      }
    },
    {
      "cell_type": "code",
      "source": [
        "X_train, X_test, y_train, y_test = train_test_split(X, y, test_size=0.2, random_state=42)\n"
      ],
      "metadata": {
        "id": "BaFdNzaJJ7wn"
      },
      "execution_count": 7,
      "outputs": []
    },
    {
      "cell_type": "markdown",
      "source": [
        "Create and train the linear regression model"
      ],
      "metadata": {
        "id": "k18AoFkKKQgT"
      }
    },
    {
      "cell_type": "code",
      "source": [
        "model = LinearRegression()\n",
        "model.fit(X_train, y_train)"
      ],
      "metadata": {
        "colab": {
          "base_uri": "https://localhost:8080/",
          "height": 75
        },
        "id": "_y4oL-UqKPi9",
        "outputId": "532a7075-0a44-4ca8-d4c8-b84cd9337b82"
      },
      "execution_count": 8,
      "outputs": [
        {
          "output_type": "execute_result",
          "data": {
            "text/plain": [
              "LinearRegression()"
            ],
            "text/html": [
              "<style>#sk-container-id-1 {color: black;background-color: white;}#sk-container-id-1 pre{padding: 0;}#sk-container-id-1 div.sk-toggleable {background-color: white;}#sk-container-id-1 label.sk-toggleable__label {cursor: pointer;display: block;width: 100%;margin-bottom: 0;padding: 0.3em;box-sizing: border-box;text-align: center;}#sk-container-id-1 label.sk-toggleable__label-arrow:before {content: \"▸\";float: left;margin-right: 0.25em;color: #696969;}#sk-container-id-1 label.sk-toggleable__label-arrow:hover:before {color: black;}#sk-container-id-1 div.sk-estimator:hover label.sk-toggleable__label-arrow:before {color: black;}#sk-container-id-1 div.sk-toggleable__content {max-height: 0;max-width: 0;overflow: hidden;text-align: left;background-color: #f0f8ff;}#sk-container-id-1 div.sk-toggleable__content pre {margin: 0.2em;color: black;border-radius: 0.25em;background-color: #f0f8ff;}#sk-container-id-1 input.sk-toggleable__control:checked~div.sk-toggleable__content {max-height: 200px;max-width: 100%;overflow: auto;}#sk-container-id-1 input.sk-toggleable__control:checked~label.sk-toggleable__label-arrow:before {content: \"▾\";}#sk-container-id-1 div.sk-estimator input.sk-toggleable__control:checked~label.sk-toggleable__label {background-color: #d4ebff;}#sk-container-id-1 div.sk-label input.sk-toggleable__control:checked~label.sk-toggleable__label {background-color: #d4ebff;}#sk-container-id-1 input.sk-hidden--visually {border: 0;clip: rect(1px 1px 1px 1px);clip: rect(1px, 1px, 1px, 1px);height: 1px;margin: -1px;overflow: hidden;padding: 0;position: absolute;width: 1px;}#sk-container-id-1 div.sk-estimator {font-family: monospace;background-color: #f0f8ff;border: 1px dotted black;border-radius: 0.25em;box-sizing: border-box;margin-bottom: 0.5em;}#sk-container-id-1 div.sk-estimator:hover {background-color: #d4ebff;}#sk-container-id-1 div.sk-parallel-item::after {content: \"\";width: 100%;border-bottom: 1px solid gray;flex-grow: 1;}#sk-container-id-1 div.sk-label:hover label.sk-toggleable__label {background-color: #d4ebff;}#sk-container-id-1 div.sk-serial::before {content: \"\";position: absolute;border-left: 1px solid gray;box-sizing: border-box;top: 0;bottom: 0;left: 50%;z-index: 0;}#sk-container-id-1 div.sk-serial {display: flex;flex-direction: column;align-items: center;background-color: white;padding-right: 0.2em;padding-left: 0.2em;position: relative;}#sk-container-id-1 div.sk-item {position: relative;z-index: 1;}#sk-container-id-1 div.sk-parallel {display: flex;align-items: stretch;justify-content: center;background-color: white;position: relative;}#sk-container-id-1 div.sk-item::before, #sk-container-id-1 div.sk-parallel-item::before {content: \"\";position: absolute;border-left: 1px solid gray;box-sizing: border-box;top: 0;bottom: 0;left: 50%;z-index: -1;}#sk-container-id-1 div.sk-parallel-item {display: flex;flex-direction: column;z-index: 1;position: relative;background-color: white;}#sk-container-id-1 div.sk-parallel-item:first-child::after {align-self: flex-end;width: 50%;}#sk-container-id-1 div.sk-parallel-item:last-child::after {align-self: flex-start;width: 50%;}#sk-container-id-1 div.sk-parallel-item:only-child::after {width: 0;}#sk-container-id-1 div.sk-dashed-wrapped {border: 1px dashed gray;margin: 0 0.4em 0.5em 0.4em;box-sizing: border-box;padding-bottom: 0.4em;background-color: white;}#sk-container-id-1 div.sk-label label {font-family: monospace;font-weight: bold;display: inline-block;line-height: 1.2em;}#sk-container-id-1 div.sk-label-container {text-align: center;}#sk-container-id-1 div.sk-container {/* jupyter's `normalize.less` sets `[hidden] { display: none; }` but bootstrap.min.css set `[hidden] { display: none !important; }` so we also need the `!important` here to be able to override the default hidden behavior on the sphinx rendered scikit-learn.org. See: https://github.com/scikit-learn/scikit-learn/issues/21755 */display: inline-block !important;position: relative;}#sk-container-id-1 div.sk-text-repr-fallback {display: none;}</style><div id=\"sk-container-id-1\" class=\"sk-top-container\"><div class=\"sk-text-repr-fallback\"><pre>LinearRegression()</pre><b>In a Jupyter environment, please rerun this cell to show the HTML representation or trust the notebook. <br />On GitHub, the HTML representation is unable to render, please try loading this page with nbviewer.org.</b></div><div class=\"sk-container\" hidden><div class=\"sk-item\"><div class=\"sk-estimator sk-toggleable\"><input class=\"sk-toggleable__control sk-hidden--visually\" id=\"sk-estimator-id-1\" type=\"checkbox\" checked><label for=\"sk-estimator-id-1\" class=\"sk-toggleable__label sk-toggleable__label-arrow\">LinearRegression</label><div class=\"sk-toggleable__content\"><pre>LinearRegression()</pre></div></div></div></div></div>"
            ]
          },
          "metadata": {},
          "execution_count": 8
        }
      ]
    },
    {
      "cell_type": "markdown",
      "source": [
        "predictions"
      ],
      "metadata": {
        "id": "9rFVhStpKdQ4"
      }
    },
    {
      "cell_type": "code",
      "source": [
        "y_pred = model.predict(X_test)"
      ],
      "metadata": {
        "id": "LMbvJbIZKbN7"
      },
      "execution_count": 9,
      "outputs": []
    },
    {
      "cell_type": "markdown",
      "source": [
        "** Evaluate the model**"
      ],
      "metadata": {
        "id": "yHtndGe0KlrC"
      }
    },
    {
      "cell_type": "code",
      "source": [
        "mse = mean_squared_error(y_test, y_pred)\n",
        "r2 = r2_score(y_test, y_pred)\n",
        "print(f'Mean Squared Error: {mse}')\n",
        "print(f'R-squared: {r2}')"
      ],
      "metadata": {
        "colab": {
          "base_uri": "https://localhost:8080/"
        },
        "id": "_l5dxcOzKher",
        "outputId": "d9be528a-6081-4e07-ae06-0053691518e4"
      },
      "execution_count": 10,
      "outputs": [
        {
          "output_type": "stream",
          "name": "stdout",
          "text": [
            "Mean Squared Error: 0.8006932905007028\n",
            "R-squared: 0.23736847838508124\n"
          ]
        }
      ]
    },
    {
      "cell_type": "markdown",
      "source": [
        "Compare the predicted values with the actual values"
      ],
      "metadata": {
        "id": "WJpStzSGK15X"
      }
    },
    {
      "cell_type": "code",
      "source": [
        "comparison = pd.DataFrame({'Actual': y_test, 'Predicted': y_pred})\n",
        "print(comparison)"
      ],
      "metadata": {
        "colab": {
          "base_uri": "https://localhost:8080/"
        },
        "id": "6mgVhvbZKwl-",
        "outputId": "afc6c0cb-4868-4b34-ff53-773557b91495"
      },
      "execution_count": 11,
      "outputs": [
        {
          "output_type": "stream",
          "name": "stdout",
          "text": [
            "     Actual  Predicted\n",
            "69     3.14   3.503959\n",
            "206    1.10   2.391252\n",
            "180    2.00   3.790903\n",
            "9      3.23   2.541101\n",
            "127    2.83   2.978691\n",
            "109    2.55   3.272012\n",
            "196    2.50   2.670226\n",
            "93     1.50   2.321908\n",
            "213    1.92   2.046919\n",
            "15     3.92   3.083107\n",
            "224    1.47   2.221477\n",
            "55     1.50   3.468091\n",
            "227    1.00   2.367340\n",
            "30     2.50   2.825654\n",
            "201    2.03   3.297518\n",
            "147    2.74   2.738774\n",
            "19     3.35   3.008980\n",
            "112    5.07   3.748659\n",
            "225    3.00   2.600881\n",
            "24     2.34   2.782613\n",
            "208    1.50   2.286837\n",
            "10     1.71   2.181624\n",
            "95     1.50   2.356182\n",
            "144    2.00   1.961633\n",
            "220    2.88   3.126149\n",
            "25     2.00   2.428715\n",
            "86     3.00   3.672140\n",
            "183    1.50   2.613634\n",
            "84     4.00   2.820075\n",
            "18     3.50   2.715659\n",
            "146    2.00   2.409585\n",
            "66     2.09   2.559434\n",
            "45     5.00   3.134917\n",
            "139    2.30   2.672617\n",
            "125    2.18   3.181944\n",
            "170    2.00   2.788989\n",
            "164    2.00   2.210318\n",
            "16     1.67   2.186406\n",
            "156    2.50   2.372123\n",
            "177    3.00   4.595144\n",
            "161    2.24   3.017748\n",
            "203    2.00   3.759020\n",
            "124    2.00   2.270098\n",
            "60     3.76   2.820872\n",
            "199    3.41   3.482438\n",
            "229    4.67   4.218928\n",
            "82     5.17   4.139222\n"
          ]
        }
      ]
    },
    {
      "cell_type": "code",
      "source": [
        "plt.scatter(X_test, y_test, color='blue', label='Actual')\n",
        "plt.scatter(X_test, y_pred, color='red', label='Predicted')\n",
        "plt.xlabel('Total Bill')\n",
        "plt.ylabel('Tip')\n",
        "plt.title('Actual vs Predicted Tips')\n",
        "plt.legend()\n",
        "plt.show()"
      ],
      "metadata": {
        "colab": {
          "base_uri": "https://localhost:8080/",
          "height": 472
        },
        "id": "LRWmnRdkLUJm",
        "outputId": "8bb922a6-681a-44f9-e15c-6421e0d8ec10"
      },
      "execution_count": 12,
      "outputs": [
        {
          "output_type": "display_data",
          "data": {
            "text/plain": [
              "<Figure size 640x480 with 1 Axes>"
            ],
            "image/png": "[encoded data removed]"
          },
          "metadata": {}
        }
      ]
    },
    {
      "cell_type": "code",
      "source": [
        "plt.figure(figsize=(10, 6))\n",
        "plt.scatter(data['total_bill'], data['tip'], color='blue')\n",
        "plt.title('Scatter Plot of Total Bill vs Tip')\n",
        "plt.xlabel('Total Bill')\n",
        "plt.ylabel('Tip')\n",
        "plt.grid(True)\n",
        "plt.show()"
      ],
      "metadata": {
        "colab": {
          "base_uri": "https://localhost:8080/",
          "height": 564
        },
        "id": "PlTwfeKLvV9r",
        "outputId": "57655b13-0abb-46c6-d1f6-f438bbc448d0"
      },
      "execution_count": 13,
      "outputs": [
        {
          "output_type": "display_data",
          "data": {
            "text/plain": [
              "<Figure size 1000x600 with 1 Axes>"
            ],
            "image/png": "[encoded data removed]"
          },
          "metadata": {}
        }
      ]
    }
  ]
}