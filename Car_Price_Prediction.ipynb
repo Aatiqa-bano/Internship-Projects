{
  "nbformat": 4,
  "nbformat_minor": 0,
  "metadata": {
    "colab": {
      "provenance": [],
      "authorship_tag": "ABX9TyOCLACq9zhIeKnWbxrSUy1w",
      "include_colab_link": true
    },
    "kernelspec": {
      "name": "python3",
      "display_name": "Python 3"
    },
    "language_info": {
      "name": "python"
    }
  },
  "cells": [
    {
      "cell_type": "markdown",
      "metadata": {
        "id": "view-in-github",
        "colab_type": "text"
      },
      "source": [
        "<a href=\"https://colab.research.google.com/github/Aatiqa-bano/Internship-Projects/blob/main/Car_Price_Prediction.ipynb\" target=\"_parent\"><img src=\"https://colab.research.google.com/assets/colab-badge.svg\" alt=\"Open In Colab\"/></a>"
      ]
    },
    {
      "cell_type": "code",
      "execution_count": 35,
      "metadata": {
        "id": "z3ueF2L9gdiW"
      },
      "outputs": [],
      "source": [
        "import pandas as pd\n",
        "from sklearn.preprocessing import LabelEncoder\n",
        "from sklearn.linear_model import LinearRegression\n",
        "from sklearn.model_selection import train_test_split\n",
        "from sklearn.preprocessing import LabelEncoder\n",
        "from sklearn.metrics import mean_absolute_error, mean_squared_error\n",
        "import numpy as np\n",
        "\n",
        "# Load the dataset (assuming it's a CSV file)\n",
        "df = pd.read_csv('CAR DETAILS FROM CAR DEKHO.csv')"
      ]
    },
    {
      "cell_type": "code",
      "source": [
        "# Preprocess the categorical data\n",
        "le = LabelEncoder()\n",
        "df['name'] = le.fit_transform(df['name'])\n",
        "df['fuel'] = le.fit_transform(df['fuel'])\n",
        "df['seller_type'] = le.fit_transform(df['seller_type'])\n",
        "df['transmission'] = le.fit_transform(df['transmission'])\n",
        "df['owner'] = le.fit_transform(df['owner'])"
      ],
      "metadata": {
        "id": "UMGcckPpnSht"
      },
      "execution_count": 28,
      "outputs": []
    },
    {
      "cell_type": "code",
      "source": [
        "# Get an overview of the dataset\n",
        "print(df.head())"
      ],
      "metadata": {
        "colab": {
          "base_uri": "https://localhost:8080/"
        },
        "id": "aW5gtDc7kTR3",
        "outputId": "6da75a8f-0f3c-4551-feca-d85cef60aab6"
      },
      "execution_count": 8,
      "outputs": [
        {
          "output_type": "stream",
          "name": "stdout",
          "text": [
            "                       name  year  selling_price  km_driven    fuel  \\\n",
            "0             Maruti 800 AC  2007          60000      70000  Petrol   \n",
            "1  Maruti Wagon R LXI Minor  2007         135000      50000  Petrol   \n",
            "2      Hyundai Verna 1.6 SX  2012         600000     100000  Diesel   \n",
            "3    Datsun RediGO T Option  2017         250000      46000  Petrol   \n",
            "4     Honda Amaze VX i-DTEC  2014         450000     141000  Diesel   \n",
            "\n",
            "  seller_type transmission         owner  \n",
            "0  Individual       Manual   First Owner  \n",
            "1  Individual       Manual   First Owner  \n",
            "2  Individual       Manual   First Owner  \n",
            "3  Individual       Manual   First Owner  \n",
            "4  Individual       Manual  Second Owner  \n"
          ]
        }
      ]
    },
    {
      "cell_type": "code",
      "source": [
        "print(df.info())  # Show column data types and summary statistics"
      ],
      "metadata": {
        "colab": {
          "base_uri": "https://localhost:8080/"
        },
        "id": "6UDUt0pxkaKt",
        "outputId": "ee878e74-fbb9-4394-8fee-f3eabefa007a"
      },
      "execution_count": 9,
      "outputs": [
        {
          "output_type": "stream",
          "name": "stdout",
          "text": [
            "<class 'pandas.core.frame.DataFrame'>\n",
            "RangeIndex: 3780 entries, 0 to 3779\n",
            "Data columns (total 8 columns):\n",
            " #   Column         Non-Null Count  Dtype \n",
            "---  ------         --------------  ----- \n",
            " 0   name           3780 non-null   object\n",
            " 1   year           3780 non-null   int64 \n",
            " 2   selling_price  3780 non-null   int64 \n",
            " 3   km_driven      3780 non-null   int64 \n",
            " 4   fuel           3780 non-null   object\n",
            " 5   seller_type    3780 non-null   object\n",
            " 6   transmission   3780 non-null   object\n",
            " 7   owner          3780 non-null   object\n",
            "dtypes: int64(3), object(5)\n",
            "memory usage: 236.4+ KB\n",
            "None\n"
          ]
        }
      ]
    },
    {
      "cell_type": "code",
      "source": [
        "print(df.describe())  # Show summary statistics for numerical columns"
      ],
      "metadata": {
        "colab": {
          "base_uri": "https://localhost:8080/"
        },
        "id": "hMTWL0Lkkc1F",
        "outputId": "c2aefc09-1729-4b81-bb94-315e55ec1873"
      },
      "execution_count": 10,
      "outputs": [
        {
          "output_type": "stream",
          "name": "stdout",
          "text": [
            "              year  selling_price      km_driven\n",
            "count  3780.000000   3.780000e+03    3780.000000\n",
            "mean   2012.993915   4.808879e+05   68383.251058\n",
            "std       4.251204   5.333192e+05   47068.274593\n",
            "min    1992.000000   2.000000e+04       1.000000\n",
            "25%    2010.000000   2.000000e+05   35000.000000\n",
            "50%    2014.000000   3.500000e+05   60000.000000\n",
            "75%    2016.000000   6.000000e+05   90000.000000\n",
            "max    2020.000000   8.900000e+06  806599.000000\n"
          ]
        }
      ]
    },
    {
      "cell_type": "markdown",
      "source": [
        "#Feature Engineering:\n"
      ],
      "metadata": {
        "id": "baGuMJgRkjcw"
      }
    },
    {
      "cell_type": "markdown",
      "source": [
        "Age of the car\n"
      ],
      "metadata": {
        "id": "cJC8q63HksRJ"
      }
    },
    {
      "cell_type": "code",
      "source": [
        "df['age'] = 2023 - df['year']  # Assuming the current year is 2023"
      ],
      "metadata": {
        "id": "Q781NH3gkfsf"
      },
      "execution_count": 11,
      "outputs": []
    },
    {
      "cell_type": "code",
      "source": [
        "def predict_age(manufacturing_year, current_year=2023):\n",
        "    return current_year - manufacturing_year\n",
        "# Example usage:\n",
        "manufacturing_year = 2015\n",
        "age = predict_age(manufacturing_year)\n",
        "print(f\"The age of the car manufactured in {manufacturing_year} is {age} years.\")"
      ],
      "metadata": {
        "colab": {
          "base_uri": "https://localhost:8080/"
        },
        "id": "yOt5jl_Pqs9O",
        "outputId": "b0fabd97-6628-43a4-8854-ea0864ff4210"
      },
      "execution_count": 38,
      "outputs": [
        {
          "output_type": "stream",
          "name": "stdout",
          "text": [
            "The age of the car manufactured in 2015 is 8 years.\n"
          ]
        }
      ]
    },
    {
      "cell_type": "markdown",
      "source": [
        "Fuel efficiency"
      ],
      "metadata": {
        "id": "2HUbCXbTk3nU"
      }
    },
    {
      "cell_type": "code",
      "source": [
        "df['fuel_efficiency'] = df['km_driven'] / df['fuel'].map({'Petrol': 1, 'Diesel': 0.8, 'CNG': 0.6})"
      ],
      "metadata": {
        "id": "Dy_iz9kSk1-p"
      },
      "execution_count": 12,
      "outputs": []
    },
    {
      "cell_type": "code",
      "source": [
        "def calculate_fuel_efficiency_for_car(km_driven, fuel_type):\n",
        "    efficiency_mapping = {'Petrol': 1, 'Diesel': 0.8, 'CNG': 0.6}\n",
        "    return km_driven / efficiency_mapping.get(fuel_type, 1)\n",
        "\n",
        "km_driven = 70000\n",
        "fuel_type = 'Petrol'\n",
        "fuel_efficiency = calculate_fuel_efficiency_for_car(km_driven, fuel_type)\n",
        "print(f'Fuel Efficiency: {fuel_efficiency}')\n"
      ],
      "metadata": {
        "colab": {
          "base_uri": "https://localhost:8080/"
        },
        "id": "uq45j6UkfMAe",
        "outputId": "1d632478-8cd8-4327-dadd-6338c13c1ee7"
      },
      "execution_count": 46,
      "outputs": [
        {
          "output_type": "stream",
          "name": "stdout",
          "text": [
            "Fuel Efficiency: 70000.0\n"
          ]
        }
      ]
    },
    {
      "cell_type": "markdown",
      "source": [
        "Seller type encoding"
      ],
      "metadata": {
        "id": "G-ThShFnk-pv"
      }
    },
    {
      "cell_type": "code",
      "source": [
        "le = LabelEncoder()\n",
        "df['seller_type_encoded'] = le.fit_transform(df['seller_type'])"
      ],
      "metadata": {
        "id": "qNW-tFlyk7Eu"
      },
      "execution_count": 14,
      "outputs": []
    },
    {
      "cell_type": "code",
      "source": [
        "from sklearn.preprocessing import LabelEncoder\n",
        "\n",
        "# Sample data for encoding\n",
        "df = pd.DataFrame({'seller_type': ['Individual', 'Dealer']})\n",
        "\n",
        "# Create and fit the LabelEncoder for seller_type\n",
        "le_seller_type = LabelEncoder()\n",
        "le_seller_type.fit(df['seller_type'])\n",
        "\n",
        "def encode_seller_type_for_car(seller_type):\n",
        "    return le_seller_type.transform([seller_type])[0]\n",
        "\n",
        "# Example usage\n",
        "seller_type = 'Individual'\n",
        "encoded_seller_type = encode_seller_type_for_car(seller_type)\n",
        "print(f'Encoded Seller Type: {encoded_seller_type}')\n"
      ],
      "metadata": {
        "colab": {
          "base_uri": "https://localhost:8080/"
        },
        "id": "QFCZ3TxUiiuM",
        "outputId": "f1346902-f7a1-4933-e037-05af81975733"
      },
      "execution_count": 49,
      "outputs": [
        {
          "output_type": "stream",
          "name": "stdout",
          "text": [
            "Encoded Seller Type: 1\n"
          ]
        }
      ]
    },
    {
      "cell_type": "markdown",
      "source": [
        "brand name"
      ],
      "metadata": {
        "id": "jZ4YBxtvlSgv"
      }
    },
    {
      "cell_type": "code",
      "source": [
        "df['brand'] = df['name'].apply(lambda x: x.split()[0])"
      ],
      "metadata": {
        "id": "rZ7OQwFMlRNA"
      },
      "execution_count": 15,
      "outputs": []
    },
    {
      "cell_type": "code",
      "source": [
        "def extract_brand_for_car(name):\n",
        "    return name.split()[0]\n",
        "\n",
        "# Example usage\n",
        "car_name = 'Maruti 800 AC'\n",
        "brand_name = extract_brand_for_car(car_name)\n",
        "print(f'Brand Name: {brand_name}')"
      ],
      "metadata": {
        "colab": {
          "base_uri": "https://localhost:8080/"
        },
        "id": "ogTEFFEOisxh",
        "outputId": "e7903008-c199-438e-9f6b-1c3da0673729"
      },
      "execution_count": 48,
      "outputs": [
        {
          "output_type": "stream",
          "name": "stdout",
          "text": [
            "Brand Name: Maruti\n"
          ]
        }
      ]
    },
    {
      "cell_type": "markdown",
      "source": [
        "#Model Selection and Training:\n",
        "\n"
      ],
      "metadata": {
        "id": "NQjRGDuXnbPY"
      }
    },
    {
      "cell_type": "code",
      "source": [
        "# Split the dataset into training and testing sets\n",
        "X = df.drop(['selling_price'], axis=1)\n",
        "y = df['selling_price']\n",
        "X_train, X_test, y_train, y_test = train_test_split(X, y, test_size=0.2, random_state=42)\n",
        "\n",
        "# Create and train a Linear Regression model\n",
        "lr_model = LinearRegression()\n",
        "lr_model.fit(X_train, y_train)\n",
        "\n",
        "# Make predictions on the testing set\n",
        "y_pred = lr_model.predict(X_test)"
      ],
      "metadata": {
        "id": "wuyZaoqhlnFN"
      },
      "execution_count": 29,
      "outputs": []
    },
    {
      "cell_type": "code",
      "source": [
        "# Make predictions on the testing set\n",
        "y_pred = lr_model.predict(X_test)\n",
        "\n",
        "# Calculate MAE and RMSE\n",
        "mae = mean_absolute_error(y_test, y_pred)\n",
        "rmse = np.sqrt(mean_squared_error(y_test, y_pred))\n",
        "\n",
        "print(f'MAE: {mae:.2f}')\n",
        "print(f'RMSE: {rmse:.2f}')"
      ],
      "metadata": {
        "colab": {
          "base_uri": "https://localhost:8080/"
        },
        "id": "bu9GAlsondHP",
        "outputId": "b0a7341a-c454-4a99-cf4c-be070a038e5b"
      },
      "execution_count": 33,
      "outputs": [
        {
          "output_type": "stream",
          "name": "stdout",
          "text": [
            "MAE: 223402.05\n",
            "RMSE: 433787.91\n"
          ]
        }
      ]
    }
  ]
}