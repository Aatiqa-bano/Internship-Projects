{
  "nbformat": 4,
  "nbformat_minor": 0,
  "metadata": {
    "colab": {
      "provenance": [],
      "authorship_tag": "ABX9TyMq3QwzCMUNXCnP0tAka99/",
      "include_colab_link": true
    },
    "kernelspec": {
      "name": "python3",
      "display_name": "Python 3"
    },
    "language_info": {
      "name": "python"
    }
  },
  "cells": [
    {
      "cell_type": "markdown",
      "metadata": {
        "id": "view-in-github",
        "colab_type": "text"
      },
      "source": [
        "<a href=\"https://colab.research.google.com/github/Aatiqa-bano/Internship-Projects/blob/main/Laptop_Price_Prediction.ipynb\" target=\"_parent\"><img src=\"https://colab.research.google.com/assets/colab-badge.svg\" alt=\"Open In Colab\"/></a>"
      ]
    },
    {
      "cell_type": "markdown",
      "source": [
        "#libraries used"
      ],
      "metadata": {
        "id": "ptVXE9beYy45"
      }
    },
    {
      "cell_type": "code",
      "source": [
        "import pandas as pd\n",
        "from sklearn.model_selection import train_test_split\n",
        "from sklearn.linear_model import LinearRegression\n",
        "from sklearn.metrics import mean_absolute_error, mean_squared_error"
      ],
      "metadata": {
        "id": "0ny19B8yW0jF"
      },
      "execution_count": 103,
      "outputs": []
    },
    {
      "cell_type": "code",
      "source": [
        "df = pd.read_csv('laptopPrice.csv')"
      ],
      "metadata": {
        "id": "iyugH4ouW553"
      },
      "execution_count": 104,
      "outputs": []
    },
    {
      "cell_type": "code",
      "source": [
        "print(df.head())"
      ],
      "metadata": {
        "colab": {
          "base_uri": "https://localhost:8080/"
        },
        "id": "qYGeNTwGXM5N",
        "outputId": "d4f3c924-9903-453d-b66f-ad918d430d90"
      },
      "execution_count": 105,
      "outputs": [
        {
          "output_type": "stream",
          "name": "stdout",
          "text": [
            "    brand processor_brand processor_name processor_gnrtn  ram_gb ram_type  \\\n",
            "0    ASUS           Intel        Core i3            10th       4     DDR4   \n",
            "1  Lenovo           Intel        Core i3            10th       4     DDR4   \n",
            "2  Lenovo           Intel        Core i3            10th       4     DDR4   \n",
            "3    ASUS           Intel        Core i5            10th       8     DDR4   \n",
            "4    ASUS           Intel   Celeron Dual   Not Available       4     DDR4   \n",
            "\n",
            "   ssd   hdd       os  os_bit  graphic_card_gb  weight     warranty  \\\n",
            "0    0  1024  Windows      64                0  Casual  No warranty   \n",
            "1    0  1024  Windows      64                0  Casual  No warranty   \n",
            "2    0  1024  Windows      64                0  Casual  No warranty   \n",
            "3  512     0  Windows      32                2  Casual  No warranty   \n",
            "4    0   512  Windows      64                0  Casual  No warranty   \n",
            "\n",
            "  Touchscreen msoffice  Price  rating  Number of Ratings  Number of Reviews  \n",
            "0          No       No  34649       2                  3                  0  \n",
            "1          No       No  38999       3                 65                  5  \n",
            "2          No       No  39999       3                  8                  1  \n",
            "3          No       No  69990       3                  0                  0  \n",
            "4          No       No  26990       3                  0                  0  \n"
          ]
        }
      ]
    },
    {
      "cell_type": "markdown",
      "source": [
        "# Summary statistics\n"
      ],
      "metadata": {
        "id": "ZTIwr1MqXfMn"
      }
    },
    {
      "cell_type": "code",
      "source": [
        "print(df.describe())"
      ],
      "metadata": {
        "colab": {
          "base_uri": "https://localhost:8080/"
        },
        "id": "nH3toGY6XPTF",
        "outputId": "0133d8a0-19df-4bd3-e647-78af13e4a21c"
      },
      "execution_count": 106,
      "outputs": [
        {
          "output_type": "stream",
          "name": "stdout",
          "text": [
            "           ram_gb          ssd          hdd      os_bit  graphic_card_gb  \\\n",
            "count  802.000000   802.000000   802.000000  802.000000       802.000000   \n",
            "mean     8.673317   453.745636   231.102244   59.650873         1.216958   \n",
            "std      4.388785   318.931839   415.928535   10.973026         2.042082   \n",
            "min      4.000000     0.000000     0.000000   32.000000         0.000000   \n",
            "25%      4.000000   256.000000     0.000000   64.000000         0.000000   \n",
            "50%      8.000000   512.000000     0.000000   64.000000         0.000000   \n",
            "75%      8.000000   512.000000     0.000000   64.000000         2.000000   \n",
            "max     32.000000  3072.000000  2048.000000   64.000000         8.000000   \n",
            "\n",
            "               Price      rating  Number of Ratings  Number of Reviews  \n",
            "count     802.000000  802.000000          802.00000         802.000000  \n",
            "mean    76625.543641    3.568579          299.84414          36.089776  \n",
            "std     45232.984422    0.568337         1001.78442         118.313553  \n",
            "min     16990.000000    1.000000            0.00000           0.000000  \n",
            "25%     45990.000000    3.000000            0.00000           0.000000  \n",
            "50%     63990.000000    4.000000           17.00000           2.000000  \n",
            "75%     89525.000000    4.000000          140.25000          18.000000  \n",
            "max    441990.000000    5.000000        15279.00000        1947.000000  \n"
          ]
        }
      ]
    },
    {
      "cell_type": "markdown",
      "source": [
        "# Check for missing values\n"
      ],
      "metadata": {
        "id": "S2f7cbZGXhqz"
      }
    },
    {
      "cell_type": "code",
      "source": [
        "print(df.isnull().sum())"
      ],
      "metadata": {
        "colab": {
          "base_uri": "https://localhost:8080/"
        },
        "id": "JSgf-vrxXRqe",
        "outputId": "54271a16-95d0-4079-86e1-dd980eab7076"
      },
      "execution_count": 107,
      "outputs": [
        {
          "output_type": "stream",
          "name": "stdout",
          "text": [
            "brand                0\n",
            "processor_brand      0\n",
            "processor_name       0\n",
            "processor_gnrtn      0\n",
            "ram_gb               0\n",
            "ram_type             0\n",
            "ssd                  0\n",
            "hdd                  0\n",
            "os                   0\n",
            "os_bit               0\n",
            "graphic_card_gb      0\n",
            "weight               0\n",
            "warranty             0\n",
            "Touchscreen          0\n",
            "msoffice             0\n",
            "Price                0\n",
            "rating               0\n",
            "Number of Ratings    0\n",
            "Number of Reviews    0\n",
            "dtype: int64\n"
          ]
        }
      ]
    },
    {
      "cell_type": "markdown",
      "source": [
        "# Feature Engineering\n"
      ],
      "metadata": {
        "id": "4jVEHQwGX4N1"
      }
    },
    {
      "cell_type": "code",
      "source": [
        "# Combine SSD and HDD into a single feature for total storage\n",
        "df['total_storage'] = df['ssd'] + df['hdd']"
      ],
      "metadata": {
        "id": "n1RIplrNXqyf"
      },
      "execution_count": 108,
      "outputs": []
    },
    {
      "cell_type": "code",
      "source": [
        "# Create a new feature: Price per GB of storage\n",
        "df['price_per_gb'] = df['Price'] / (df['total_storage'] + 1)  # Adding 1 to avoid division by zero"
      ],
      "metadata": {
        "id": "5kgfZ8thXvN9"
      },
      "execution_count": 109,
      "outputs": []
    },
    {
      "cell_type": "code",
      "source": [
        "# Convert processor generation to numerical values (e.g., 10th generation as 10)\n",
        "def process_generation(gen):\n",
        "    try:\n",
        "        return int(gen.split(' ')[0])\n",
        "    except ValueError:\n",
        "        return 0  # Default value for missing or non-numeric generations\n",
        "\n",
        "# Check if 'processor_gnrtn' exists before applying the function\n",
        "if 'processor_gnrtn' in df.columns:\n",
        "    df['processor_gnrtn_num'] = df['processor_gnrtn'].apply(process_generation)\n",
        "\n",
        "# Drop columns no longer needed\n",
        "df.drop(['processor_gnrtn', 'total_storage'], axis=1, inplace=True, errors='ignore')\n",
        "\n",
        "# Convert categorical features to numerical values using one-hot encoding\n",
        "df_encoded = pd.get_dummies(df, drop_first=True)\n",
        "\n",
        "# Check the new DataFrame\n",
        "print(df_encoded.head())\n",
        "\n",
        "# Prepare features and target variable\n",
        "X = df_encoded.drop('Price', axis=1, errors='ignore')  # Use errors='ignore' to avoid KeyError if 'Price' is missing\n",
        "y = df_encoded['Price']"
      ],
      "metadata": {
        "colab": {
          "base_uri": "https://localhost:8080/"
        },
        "id": "DlKFAS6HW_Tv",
        "outputId": "51b4eda8-dbdd-432e-83e0-909c2f694ac1"
      },
      "execution_count": 110,
      "outputs": [
        {
          "output_type": "stream",
          "name": "stdout",
          "text": [
            "   ram_gb  ssd   hdd  os_bit  graphic_card_gb  Price  rating  \\\n",
            "0       4    0  1024      64                0  34649       2   \n",
            "1       4    0  1024      64                0  38999       3   \n",
            "2       4    0  1024      64                0  39999       3   \n",
            "3       8  512     0      32                2  69990       3   \n",
            "4       4    0   512      64                0  26990       3   \n",
            "\n",
            "   Number of Ratings  Number of Reviews  price_per_gb  ...  ram_type_LPDDR4X  \\\n",
            "0                  3                  0     33.803902  ...             False   \n",
            "1                 65                  5     38.047805  ...             False   \n",
            "2                  8                  1     39.023415  ...             False   \n",
            "3                  0                  0    136.432749  ...             False   \n",
            "4                  0                  0     52.612086  ...             False   \n",
            "\n",
            "   os_Mac  os_Windows  weight_Gaming  weight_ThinNlight  warranty_2 years  \\\n",
            "0   False        True          False              False             False   \n",
            "1   False        True          False              False             False   \n",
            "2   False        True          False              False             False   \n",
            "3   False        True          False              False             False   \n",
            "4   False        True          False              False             False   \n",
            "\n",
            "   warranty_3 years  warranty_No warranty  Touchscreen_Yes  msoffice_Yes  \n",
            "0             False                  True            False         False  \n",
            "1             False                  True            False         False  \n",
            "2             False                  True            False         False  \n",
            "3             False                  True            False         False  \n",
            "4             False                  True            False         False  \n",
            "\n",
            "[5 rows x 44 columns]\n"
          ]
        }
      ]
    },
    {
      "cell_type": "markdown",
      "source": [
        "# Train-test split\n"
      ],
      "metadata": {
        "id": "YrlIfZejYqGr"
      }
    },
    {
      "cell_type": "code",
      "source": [
        "X_train, X_test, y_train, y_test = train_test_split(X, y, test_size=0.2, random_state=42)"
      ],
      "metadata": {
        "id": "gX1jeqZzXFBi"
      },
      "execution_count": 111,
      "outputs": []
    },
    {
      "cell_type": "markdown",
      "source": [
        "# Train the model\n"
      ],
      "metadata": {
        "id": "AeDv0iFOYnx-"
      }
    },
    {
      "cell_type": "code",
      "source": [
        "model = LinearRegression()\n",
        "model.fit(X_train, y_train)"
      ],
      "metadata": {
        "colab": {
          "base_uri": "https://localhost:8080/",
          "height": 75
        },
        "id": "35IoGs6jYcZp",
        "outputId": "e09e8af7-8a54-4490-acc1-66abc049c8f7"
      },
      "execution_count": 112,
      "outputs": [
        {
          "output_type": "execute_result",
          "data": {
            "text/plain": [
              "LinearRegression()"
            ],
            "text/html": [
              "<style>#sk-container-id-3 {color: black;background-color: white;}#sk-container-id-3 pre{padding: 0;}#sk-container-id-3 div.sk-toggleable {background-color: white;}#sk-container-id-3 label.sk-toggleable__label {cursor: pointer;display: block;width: 100%;margin-bottom: 0;padding: 0.3em;box-sizing: border-box;text-align: center;}#sk-container-id-3 label.sk-toggleable__label-arrow:before {content: \"▸\";float: left;margin-right: 0.25em;color: #696969;}#sk-container-id-3 label.sk-toggleable__label-arrow:hover:before {color: black;}#sk-container-id-3 div.sk-estimator:hover label.sk-toggleable__label-arrow:before {color: black;}#sk-container-id-3 div.sk-toggleable__content {max-height: 0;max-width: 0;overflow: hidden;text-align: left;background-color: #f0f8ff;}#sk-container-id-3 div.sk-toggleable__content pre {margin: 0.2em;color: black;border-radius: 0.25em;background-color: #f0f8ff;}#sk-container-id-3 input.sk-toggleable__control:checked~div.sk-toggleable__content {max-height: 200px;max-width: 100%;overflow: auto;}#sk-container-id-3 input.sk-toggleable__control:checked~label.sk-toggleable__label-arrow:before {content: \"▾\";}#sk-container-id-3 div.sk-estimator input.sk-toggleable__control:checked~label.sk-toggleable__label {background-color: #d4ebff;}#sk-container-id-3 div.sk-label input.sk-toggleable__control:checked~label.sk-toggleable__label {background-color: #d4ebff;}#sk-container-id-3 input.sk-hidden--visually {border: 0;clip: rect(1px 1px 1px 1px);clip: rect(1px, 1px, 1px, 1px);height: 1px;margin: -1px;overflow: hidden;padding: 0;position: absolute;width: 1px;}#sk-container-id-3 div.sk-estimator {font-family: monospace;background-color: #f0f8ff;border: 1px dotted black;border-radius: 0.25em;box-sizing: border-box;margin-bottom: 0.5em;}#sk-container-id-3 div.sk-estimator:hover {background-color: #d4ebff;}#sk-container-id-3 div.sk-parallel-item::after {content: \"\";width: 100%;border-bottom: 1px solid gray;flex-grow: 1;}#sk-container-id-3 div.sk-label:hover label.sk-toggleable__label {background-color: #d4ebff;}#sk-container-id-3 div.sk-serial::before {content: \"\";position: absolute;border-left: 1px solid gray;box-sizing: border-box;top: 0;bottom: 0;left: 50%;z-index: 0;}#sk-container-id-3 div.sk-serial {display: flex;flex-direction: column;align-items: center;background-color: white;padding-right: 0.2em;padding-left: 0.2em;position: relative;}#sk-container-id-3 div.sk-item {position: relative;z-index: 1;}#sk-container-id-3 div.sk-parallel {display: flex;align-items: stretch;justify-content: center;background-color: white;position: relative;}#sk-container-id-3 div.sk-item::before, #sk-container-id-3 div.sk-parallel-item::before {content: \"\";position: absolute;border-left: 1px solid gray;box-sizing: border-box;top: 0;bottom: 0;left: 50%;z-index: -1;}#sk-container-id-3 div.sk-parallel-item {display: flex;flex-direction: column;z-index: 1;position: relative;background-color: white;}#sk-container-id-3 div.sk-parallel-item:first-child::after {align-self: flex-end;width: 50%;}#sk-container-id-3 div.sk-parallel-item:last-child::after {align-self: flex-start;width: 50%;}#sk-container-id-3 div.sk-parallel-item:only-child::after {width: 0;}#sk-container-id-3 div.sk-dashed-wrapped {border: 1px dashed gray;margin: 0 0.4em 0.5em 0.4em;box-sizing: border-box;padding-bottom: 0.4em;background-color: white;}#sk-container-id-3 div.sk-label label {font-family: monospace;font-weight: bold;display: inline-block;line-height: 1.2em;}#sk-container-id-3 div.sk-label-container {text-align: center;}#sk-container-id-3 div.sk-container {/* jupyter's `normalize.less` sets `[hidden] { display: none; }` but bootstrap.min.css set `[hidden] { display: none !important; }` so we also need the `!important` here to be able to override the default hidden behavior on the sphinx rendered scikit-learn.org. See: https://github.com/scikit-learn/scikit-learn/issues/21755 */display: inline-block !important;position: relative;}#sk-container-id-3 div.sk-text-repr-fallback {display: none;}</style><div id=\"sk-container-id-3\" class=\"sk-top-container\"><div class=\"sk-text-repr-fallback\"><pre>LinearRegression()</pre><b>In a Jupyter environment, please rerun this cell to show the HTML representation or trust the notebook. <br />On GitHub, the HTML representation is unable to render, please try loading this page with nbviewer.org.</b></div><div class=\"sk-container\" hidden><div class=\"sk-item\"><div class=\"sk-estimator sk-toggleable\"><input class=\"sk-toggleable__control sk-hidden--visually\" id=\"sk-estimator-id-3\" type=\"checkbox\" checked><label for=\"sk-estimator-id-3\" class=\"sk-toggleable__label sk-toggleable__label-arrow\">LinearRegression</label><div class=\"sk-toggleable__content\"><pre>LinearRegression()</pre></div></div></div></div></div>"
            ]
          },
          "metadata": {},
          "execution_count": 112
        }
      ]
    },
    {
      "cell_type": "markdown",
      "source": [
        "# Predict and evaluate\n"
      ],
      "metadata": {
        "id": "Po9QxyU9YlKI"
      }
    },
    {
      "cell_type": "code",
      "source": [
        "y_pred = model.predict(X_test)\n",
        "print('MAE:', mean_absolute_error(y_test, y_pred))\n",
        "print('RMSE:', mean_squared_error(y_test, y_pred, squared=False))"
      ],
      "metadata": {
        "colab": {
          "base_uri": "https://localhost:8080/"
        },
        "id": "IoWTAqCDXH_I",
        "outputId": "6ed63068-cb00-404b-c45d-86c04d5a62e6"
      },
      "execution_count": 113,
      "outputs": [
        {
          "output_type": "stream",
          "name": "stdout",
          "text": [
            "MAE: 9512.199682877359\n",
            "RMSE: 15165.386405123754\n"
          ]
        }
      ]
    }
  ]
}